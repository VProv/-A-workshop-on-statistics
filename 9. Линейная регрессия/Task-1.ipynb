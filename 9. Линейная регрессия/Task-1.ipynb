{
 "cells": [
  {
   "cell_type": "markdown",
   "metadata": {},
   "source": [
    "Загрузим данные из набора Forest Fires о лесных пожарах в Португалии. Задача состоит в том, чтобы с помощью линейной регрессии научиться предсказывать координату area (площадь пожара) в виде линейной комбинации других данных. \n",
    "\n",
    "Преобразование данных. Чтобы работать с числовыми координатами, нечисловые координаты (month, day) нужно перевести в числовые. Для простоты можно заменить координату month на индикатор летнего сезона, а координату day не использовать\n",
    "вообще. По желанию можете сделать преобразование другим способом. Так же желательно добавить координату, тождественно равную единице. Она будет отвечать свободному члену."
   ]
  },
  {
   "cell_type": "code",
   "execution_count": 1,
   "metadata": {
    "collapsed": true
   },
   "outputs": [],
   "source": [
    "import scipy.stats as stats\n",
    "import pandas as pd\n",
    "import matplotlib.pyplot as plt\n",
    "import numpy as np\n",
    "import pylab\n",
    "import seaborn as sns\n",
    "%matplotlib inline"
   ]
  },
  {
   "cell_type": "code",
   "execution_count": 2,
   "metadata": {
    "collapsed": false
   },
   "outputs": [
    {
     "data": {
      "text/html": [
       "<div>\n",
       "<table border=\"1\" class=\"dataframe\">\n",
       "  <thead>\n",
       "    <tr style=\"text-align: right;\">\n",
       "      <th></th>\n",
       "      <th>X</th>\n",
       "      <th>Y</th>\n",
       "      <th>month</th>\n",
       "      <th>day</th>\n",
       "      <th>FFMC</th>\n",
       "      <th>DMC</th>\n",
       "      <th>DC</th>\n",
       "      <th>ISI</th>\n",
       "      <th>temp</th>\n",
       "      <th>RH</th>\n",
       "      <th>wind</th>\n",
       "      <th>rain</th>\n",
       "      <th>area</th>\n",
       "    </tr>\n",
       "  </thead>\n",
       "  <tbody>\n",
       "    <tr>\n",
       "      <th>0</th>\n",
       "      <td>7</td>\n",
       "      <td>5</td>\n",
       "      <td>mar</td>\n",
       "      <td>fri</td>\n",
       "      <td>86.2</td>\n",
       "      <td>26.2</td>\n",
       "      <td>94.3</td>\n",
       "      <td>5.1</td>\n",
       "      <td>8.2</td>\n",
       "      <td>51</td>\n",
       "      <td>6.7</td>\n",
       "      <td>0.0</td>\n",
       "      <td>0.0</td>\n",
       "    </tr>\n",
       "    <tr>\n",
       "      <th>1</th>\n",
       "      <td>7</td>\n",
       "      <td>4</td>\n",
       "      <td>oct</td>\n",
       "      <td>tue</td>\n",
       "      <td>90.6</td>\n",
       "      <td>35.4</td>\n",
       "      <td>669.1</td>\n",
       "      <td>6.7</td>\n",
       "      <td>18.0</td>\n",
       "      <td>33</td>\n",
       "      <td>0.9</td>\n",
       "      <td>0.0</td>\n",
       "      <td>0.0</td>\n",
       "    </tr>\n",
       "    <tr>\n",
       "      <th>2</th>\n",
       "      <td>7</td>\n",
       "      <td>4</td>\n",
       "      <td>oct</td>\n",
       "      <td>sat</td>\n",
       "      <td>90.6</td>\n",
       "      <td>43.7</td>\n",
       "      <td>686.9</td>\n",
       "      <td>6.7</td>\n",
       "      <td>14.6</td>\n",
       "      <td>33</td>\n",
       "      <td>1.3</td>\n",
       "      <td>0.0</td>\n",
       "      <td>0.0</td>\n",
       "    </tr>\n",
       "    <tr>\n",
       "      <th>3</th>\n",
       "      <td>8</td>\n",
       "      <td>6</td>\n",
       "      <td>mar</td>\n",
       "      <td>fri</td>\n",
       "      <td>91.7</td>\n",
       "      <td>33.3</td>\n",
       "      <td>77.5</td>\n",
       "      <td>9.0</td>\n",
       "      <td>8.3</td>\n",
       "      <td>97</td>\n",
       "      <td>4.0</td>\n",
       "      <td>0.2</td>\n",
       "      <td>0.0</td>\n",
       "    </tr>\n",
       "    <tr>\n",
       "      <th>4</th>\n",
       "      <td>8</td>\n",
       "      <td>6</td>\n",
       "      <td>mar</td>\n",
       "      <td>sun</td>\n",
       "      <td>89.3</td>\n",
       "      <td>51.3</td>\n",
       "      <td>102.2</td>\n",
       "      <td>9.6</td>\n",
       "      <td>11.4</td>\n",
       "      <td>99</td>\n",
       "      <td>1.8</td>\n",
       "      <td>0.0</td>\n",
       "      <td>0.0</td>\n",
       "    </tr>\n",
       "    <tr>\n",
       "      <th>5</th>\n",
       "      <td>8</td>\n",
       "      <td>6</td>\n",
       "      <td>aug</td>\n",
       "      <td>sun</td>\n",
       "      <td>92.3</td>\n",
       "      <td>85.3</td>\n",
       "      <td>488.0</td>\n",
       "      <td>14.7</td>\n",
       "      <td>22.2</td>\n",
       "      <td>29</td>\n",
       "      <td>5.4</td>\n",
       "      <td>0.0</td>\n",
       "      <td>0.0</td>\n",
       "    </tr>\n",
       "    <tr>\n",
       "      <th>6</th>\n",
       "      <td>8</td>\n",
       "      <td>6</td>\n",
       "      <td>aug</td>\n",
       "      <td>mon</td>\n",
       "      <td>92.3</td>\n",
       "      <td>88.9</td>\n",
       "      <td>495.6</td>\n",
       "      <td>8.5</td>\n",
       "      <td>24.1</td>\n",
       "      <td>27</td>\n",
       "      <td>3.1</td>\n",
       "      <td>0.0</td>\n",
       "      <td>0.0</td>\n",
       "    </tr>\n",
       "    <tr>\n",
       "      <th>7</th>\n",
       "      <td>8</td>\n",
       "      <td>6</td>\n",
       "      <td>aug</td>\n",
       "      <td>mon</td>\n",
       "      <td>91.5</td>\n",
       "      <td>145.4</td>\n",
       "      <td>608.2</td>\n",
       "      <td>10.7</td>\n",
       "      <td>8.0</td>\n",
       "      <td>86</td>\n",
       "      <td>2.2</td>\n",
       "      <td>0.0</td>\n",
       "      <td>0.0</td>\n",
       "    </tr>\n",
       "    <tr>\n",
       "      <th>8</th>\n",
       "      <td>8</td>\n",
       "      <td>6</td>\n",
       "      <td>sep</td>\n",
       "      <td>tue</td>\n",
       "      <td>91.0</td>\n",
       "      <td>129.5</td>\n",
       "      <td>692.6</td>\n",
       "      <td>7.0</td>\n",
       "      <td>13.1</td>\n",
       "      <td>63</td>\n",
       "      <td>5.4</td>\n",
       "      <td>0.0</td>\n",
       "      <td>0.0</td>\n",
       "    </tr>\n",
       "    <tr>\n",
       "      <th>9</th>\n",
       "      <td>7</td>\n",
       "      <td>5</td>\n",
       "      <td>sep</td>\n",
       "      <td>sat</td>\n",
       "      <td>92.5</td>\n",
       "      <td>88.0</td>\n",
       "      <td>698.6</td>\n",
       "      <td>7.1</td>\n",
       "      <td>22.8</td>\n",
       "      <td>40</td>\n",
       "      <td>4.0</td>\n",
       "      <td>0.0</td>\n",
       "      <td>0.0</td>\n",
       "    </tr>\n",
       "  </tbody>\n",
       "</table>\n",
       "</div>"
      ],
      "text/plain": [
       "   X  Y month  day  FFMC    DMC     DC   ISI  temp  RH  wind  rain  area\n",
       "0  7  5   mar  fri  86.2   26.2   94.3   5.1   8.2  51   6.7   0.0   0.0\n",
       "1  7  4   oct  tue  90.6   35.4  669.1   6.7  18.0  33   0.9   0.0   0.0\n",
       "2  7  4   oct  sat  90.6   43.7  686.9   6.7  14.6  33   1.3   0.0   0.0\n",
       "3  8  6   mar  fri  91.7   33.3   77.5   9.0   8.3  97   4.0   0.2   0.0\n",
       "4  8  6   mar  sun  89.3   51.3  102.2   9.6  11.4  99   1.8   0.0   0.0\n",
       "5  8  6   aug  sun  92.3   85.3  488.0  14.7  22.2  29   5.4   0.0   0.0\n",
       "6  8  6   aug  mon  92.3   88.9  495.6   8.5  24.1  27   3.1   0.0   0.0\n",
       "7  8  6   aug  mon  91.5  145.4  608.2  10.7   8.0  86   2.2   0.0   0.0\n",
       "8  8  6   sep  tue  91.0  129.5  692.6   7.0  13.1  63   5.4   0.0   0.0\n",
       "9  7  5   sep  sat  92.5   88.0  698.6   7.1  22.8  40   4.0   0.0   0.0"
      ]
     },
     "execution_count": 2,
     "metadata": {},
     "output_type": "execute_result"
    }
   ],
   "source": [
    "data = pd.read_csv('forestfires.csv')\n",
    "data[:10]"
   ]
  },
  {
   "cell_type": "code",
   "execution_count": 3,
   "metadata": {
    "collapsed": false
   },
   "outputs": [
    {
     "data": {
      "text/plain": [
       "array([[7, 5, 'mar', 'fri', 86.2, 26.2, 94.3, 5.1, 8.2, 51, 6.7, 0.0, 0.0],\n",
       "       [7, 4, 'oct', 'tue', 90.6, 35.4, 669.1, 6.7, 18.0, 33, 0.9, 0.0, 0.0],\n",
       "       [7, 4, 'oct', 'sat', 90.6, 43.7, 686.9, 6.7, 14.6, 33, 1.3, 0.0, 0.0],\n",
       "       [8, 6, 'mar', 'fri', 91.7, 33.3, 77.5, 9.0, 8.3, 97, 4.0, 0.2, 0.0],\n",
       "       [8, 6, 'mar', 'sun', 89.3, 51.3, 102.2, 9.6, 11.4, 99, 1.8, 0.0, 0.0],\n",
       "       [8, 6, 'aug', 'sun', 92.3, 85.3, 488.0, 14.7, 22.2, 29, 5.4, 0.0,\n",
       "        0.0],\n",
       "       [8, 6, 'aug', 'mon', 92.3, 88.9, 495.6, 8.5, 24.1, 27, 3.1, 0.0, 0.0],\n",
       "       [8, 6, 'aug', 'mon', 91.5, 145.4, 608.2, 10.7, 8.0, 86, 2.2, 0.0,\n",
       "        0.0],\n",
       "       [8, 6, 'sep', 'tue', 91.0, 129.5, 692.6, 7.0, 13.1, 63, 5.4, 0.0,\n",
       "        0.0],\n",
       "       [7, 5, 'sep', 'sat', 92.5, 88.0, 698.6, 7.1, 22.8, 40, 4.0, 0.0, 0.0]], dtype=object)"
      ]
     },
     "execution_count": 3,
     "metadata": {},
     "output_type": "execute_result"
    }
   ],
   "source": [
    "data_ar= np.array(data.values)\n",
    "data_ar[:10]"
   ]
  },
  {
   "cell_type": "code",
   "execution_count": 4,
   "metadata": {
    "collapsed": false
   },
   "outputs": [
    {
     "data": {
      "text/plain": [
       "517"
      ]
     },
     "execution_count": 4,
     "metadata": {},
     "output_type": "execute_result"
    }
   ],
   "source": [
    "len(data_ar)"
   ]
  },
  {
   "cell_type": "code",
   "execution_count": null,
   "metadata": {
    "collapsed": true
   },
   "outputs": [],
   "source": []
  },
  {
   "cell_type": "code",
   "execution_count": 5,
   "metadata": {
    "collapsed": false
   },
   "outputs": [
    {
     "data": {
      "text/plain": [
       "array([[7, 5, 'mar', 'fri', 86.2, 26.2, 94.3, 5.1, 8.2, 51, 6.7, 0.0, 0.0,\n",
       "        1.0],\n",
       "       [7, 4, 'oct', 'tue', 90.6, 35.4, 669.1, 6.7, 18.0, 33, 0.9, 0.0,\n",
       "        0.0, 1.0],\n",
       "       [7, 4, 'oct', 'sat', 90.6, 43.7, 686.9, 6.7, 14.6, 33, 1.3, 0.0,\n",
       "        0.0, 1.0],\n",
       "       [8, 6, 'mar', 'fri', 91.7, 33.3, 77.5, 9.0, 8.3, 97, 4.0, 0.2, 0.0,\n",
       "        1.0],\n",
       "       [8, 6, 'mar', 'sun', 89.3, 51.3, 102.2, 9.6, 11.4, 99, 1.8, 0.0,\n",
       "        0.0, 1.0],\n",
       "       [8, 6, 'aug', 'sun', 92.3, 85.3, 488.0, 14.7, 22.2, 29, 5.4, 0.0,\n",
       "        0.0, 1.0],\n",
       "       [8, 6, 'aug', 'mon', 92.3, 88.9, 495.6, 8.5, 24.1, 27, 3.1, 0.0,\n",
       "        0.0, 1.0],\n",
       "       [8, 6, 'aug', 'mon', 91.5, 145.4, 608.2, 10.7, 8.0, 86, 2.2, 0.0,\n",
       "        0.0, 1.0],\n",
       "       [8, 6, 'sep', 'tue', 91.0, 129.5, 692.6, 7.0, 13.1, 63, 5.4, 0.0,\n",
       "        0.0, 1.0],\n",
       "       [7, 5, 'sep', 'sat', 92.5, 88.0, 698.6, 7.1, 22.8, 40, 4.0, 0.0,\n",
       "        0.0, 1.0]], dtype=object)"
      ]
     },
     "execution_count": 5,
     "metadata": {},
     "output_type": "execute_result"
    }
   ],
   "source": [
    "# Добавляем столбец единиц.\n",
    "on = np.ones(517)\n",
    "on = on.reshape((517,1))\n",
    "data_ar = np.hstack((data_ar,on))\n",
    "data_ar[:10]"
   ]
  },
  {
   "cell_type": "code",
   "execution_count": 6,
   "metadata": {
    "collapsed": false
   },
   "outputs": [],
   "source": [
    "# Поменяем месяцы.\n",
    "for line in data_ar:\n",
    "    if line[2] in [\"jun\",\"jul\",\"aug\"]:\n",
    "        line[2] = 1\n",
    "    else:\n",
    "        line[2] = 0"
   ]
  },
  {
   "cell_type": "code",
   "execution_count": 7,
   "metadata": {
    "collapsed": false
   },
   "outputs": [],
   "source": [
    "data_ar = np.hstack((data_ar[:,:3], data_ar[:,4:]))"
   ]
  },
  {
   "cell_type": "code",
   "execution_count": 8,
   "metadata": {
    "collapsed": false
   },
   "outputs": [
    {
     "data": {
      "text/plain": [
       "array([[7, 5, 0, 86.2, 26.2, 94.3, 5.1, 8.2, 51, 6.7, 0.0, 0.0, 1.0],\n",
       "       [7, 4, 0, 90.6, 35.4, 669.1, 6.7, 18.0, 33, 0.9, 0.0, 0.0, 1.0],\n",
       "       [7, 4, 0, 90.6, 43.7, 686.9, 6.7, 14.6, 33, 1.3, 0.0, 0.0, 1.0],\n",
       "       [8, 6, 0, 91.7, 33.3, 77.5, 9.0, 8.3, 97, 4.0, 0.2, 0.0, 1.0],\n",
       "       [8, 6, 0, 89.3, 51.3, 102.2, 9.6, 11.4, 99, 1.8, 0.0, 0.0, 1.0]], dtype=object)"
      ]
     },
     "execution_count": 8,
     "metadata": {},
     "output_type": "execute_result"
    }
   ],
   "source": [
    "data_ar[:5]"
   ]
  },
  {
   "cell_type": "markdown",
   "metadata": {},
   "source": [
    "Мы закончили преобразование данных.(Возможно, стоило еще отобразить все признаки в отрезок [0,1])\n",
    "Разбьем выборку на две части в соотношении 7:3. Перед этим желательно ее перемешать (random.shuffle). По первой части построим регрессионную модель. Применим модель ко второй части выборки и посчитаем по ней среднеквадратичную ошибку."
   ]
  },
  {
   "cell_type": "code",
   "execution_count": 9,
   "metadata": {
    "collapsed": true
   },
   "outputs": [],
   "source": [
    "np.random.shuffle(data_ar)"
   ]
  },
  {
   "cell_type": "code",
   "execution_count": 10,
   "metadata": {
    "collapsed": false,
    "scrolled": true
   },
   "outputs": [
    {
     "data": {
      "text/plain": [
       "array([[3, 4, 1, 91.4, 142.4, 601.4, 10.6, 19.8, 39, 5.4, 0.0, 0.0, 1.0],\n",
       "       [1, 3, 0, 91.1, 91.3, 738.1, 7.2, 19.1, 46, 2.2, 0.0, 0.33, 1.0],\n",
       "       [9, 9, 1, 90.1, 68.6, 355.2, 7.2, 24.8, 29, 2.2, 0.0, 1.36, 1.0],\n",
       "       [2, 2, 0, 89.3, 51.3, 102.2, 9.6, 5.5, 59, 6.3, 0.0, 0.0, 1.0],\n",
       "       [5, 4, 1, 91.0, 166.9, 752.6, 7.1, 21.1, 71, 7.6, 1.4, 2.17, 1.0],\n",
       "       [2, 2, 0, 79.5, 3.6, 15.3, 1.8, 4.6, 59, 0.9, 0.0, 6.84, 1.0],\n",
       "       [2, 4, 1, 93.6, 97.9, 542.0, 14.4, 28.3, 32, 4.0, 0.0, 8.85, 1.0],\n",
       "       [7, 4, 1, 93.7, 101.3, 423.4, 14.7, 18.2, 82, 4.5, 0.0, 2.21, 1.0],\n",
       "       [7, 5, 0, 91.7, 48.5, 696.1, 11.1, 16.1, 44, 4.0, 0.0, 49.37, 1.0],\n",
       "       [6, 5, 1, 94.3, 131.7, 607.1, 22.7, 19.4, 55, 4.0, 0.0, 0.17, 1.0]], dtype=object)"
      ]
     },
     "execution_count": 10,
     "metadata": {},
     "output_type": "execute_result"
    }
   ],
   "source": [
    "data_ar[:10]"
   ]
  },
  {
   "cell_type": "code",
   "execution_count": 11,
   "metadata": {
    "collapsed": false
   },
   "outputs": [
    {
     "name": "stdout",
     "output_type": "stream",
     "text": [
      "361\n"
     ]
    }
   ],
   "source": [
    "p = int(len(data_ar) * 0.7)\n",
    "print(p)"
   ]
  },
  {
   "cell_type": "code",
   "execution_count": 12,
   "metadata": {
    "collapsed": true
   },
   "outputs": [],
   "source": [
    "test_data = data_ar[:p]\n",
    "train_data = data_ar[p:]"
   ]
  },
  {
   "cell_type": "markdown",
   "metadata": {},
   "source": [
    "Разделим выборки на данные и результат."
   ]
  },
  {
   "cell_type": "code",
   "execution_count": 79,
   "metadata": {
    "collapsed": false
   },
   "outputs": [],
   "source": [
    "test_results = np.array(test_data[:,11].astype(float))\n",
    "train_results = np.array(train_data[:,11].astype(float))\n",
    "test_sample = np.array(np.hstack((test_data[:,:11], test_data[:,12:])).astype(float))\n",
    "train_sample = np.array(np.hstack((train_data[:,:11], train_data[:,12:])).astype(float))"
   ]
  },
  {
   "cell_type": "markdown",
   "metadata": {},
   "source": [
    "Наш вектор весов:"
   ]
  },
  {
   "cell_type": "code",
   "execution_count": 81,
   "metadata": {
    "collapsed": false
   },
   "outputs": [
    {
     "data": {
      "text/plain": [
       "array([  2.81980205e+00,   6.78534255e-01,  -1.10192876e+01,\n",
       "        -1.01877449e-01,   3.41871755e-01,  -3.93807404e-02,\n",
       "         3.73935241e-01,   8.13568316e-01,  -3.17903289e-01,\n",
       "         8.50245735e-01,  -4.68824779e+01,  -6.71905462e+00])"
      ]
     },
     "execution_count": 81,
     "metadata": {},
     "output_type": "execute_result"
    }
   ],
   "source": [
    "w = np.linalg.inv(train_sample.T.dot(train_sample)).dot(train_sample.T).dot(train_results.T)\n",
    "w"
   ]
  },
  {
   "cell_type": "code",
   "execution_count": 102,
   "metadata": {
    "collapsed": false
   },
   "outputs": [],
   "source": [
    "def predict(X,w):\n",
    "    return X.dot(w)\n",
    "from sklearn.metrics import mean_squared_error as MSE\n",
    "def MSError(X, real, w):\n",
    "    return MSE(real, predict(X, w))\n",
    "\n",
    "# Сумма абсолютных отклонений.\n",
    "def AbsError(X,real):\n",
    "    return np.sum(np.abs(predict(X,w) - real))"
   ]
  },
  {
   "cell_type": "code",
   "execution_count": 103,
   "metadata": {
    "collapsed": false
   },
   "outputs": [
    {
     "name": "stdout",
     "output_type": "stream",
     "text": [
      "4020.91846475\n",
      "8856.81948918\n"
     ]
    }
   ],
   "source": [
    "MSerr = MSError(test_sample, test_results,w)\n",
    "print (MSerr)\n",
    "Abserr = AbsError(test_sample, test_results)\n",
    "print(Abserr)"
   ]
  },
  {
   "cell_type": "markdown",
   "metadata": {
    "collapsed": true
   },
   "source": [
    "Очень большая ошибка. Мы допускаем отрицательные значения площади, наши признаки не отмасштабированныи и возможно в данных есть выбросы.(Может быть много причин)"
   ]
  },
  {
   "cell_type": "markdown",
   "metadata": {},
   "source": [
    "Сделаем для area преобразование f(x) = ln(c+x) и построим для нее регрессионную модель. Посчитаем среднеквадратичную ошибку для преобразованных значений по данному правилу и для исходных, применив в последнем случае к оценкам обратное к f преобразование.(x = e^f - c)"
   ]
  },
  {
   "cell_type": "code",
   "execution_count": 112,
   "metadata": {
    "collapsed": true
   },
   "outputs": [],
   "source": [
    "def do_task_c(c):\n",
    "    tr_s_c = np.log(c + train_results)\n",
    "    te_s_c = np.log(c + test_results)\n",
    "    w_1 = np.linalg.inv(train_sample.T.dot(train_sample)).dot(train_sample.T).dot(tr_s_c.T)\n",
    "    MS = MSError(test_sample, te_s_c,w_1)\n",
    "    MSinv = MSE(test_results, np.exp(predict(test_sample,w_1)) - c)\n",
    "    print(\"Среднеквадратичная ошибка: \", MS)\n",
    "    print(\"Она же с обратным преобразованием: \", MSinv)"
   ]
  },
  {
   "cell_type": "code",
   "execution_count": 122,
   "metadata": {
    "collapsed": false
   },
   "outputs": [
    {
     "name": "stdout",
     "output_type": "stream",
     "text": [
      "1\n",
      "Среднеквадратичная ошибка:  2.43291854347\n",
      "Она же с обратным преобразованием:  3574.74261518\n",
      "11\n",
      "Среднеквадратичная ошибка:  0.412643750366\n",
      "Она же с обратным преобразованием:  3525.00360173\n",
      "21\n",
      "Среднеквадратичная ошибка:  0.224286223182\n",
      "Она же с обратным преобразованием:  3519.30744996\n",
      "31\n",
      "Среднеквадратичная ошибка:  0.151359748863\n",
      "Она же с обратным преобразованием:  3520.4973774\n",
      "41\n",
      "Среднеквадратичная ошибка:  0.112878169487\n",
      "Она же с обратным преобразованием:  3524.37611544\n",
      "51\n",
      "Среднеквадратичная ошибка:  0.0892482871758\n",
      "Она же с обратным преобразованием:  3529.52795287\n",
      "61\n",
      "Среднеквадратичная ошибка:  0.0733420727415\n",
      "Она же с обратным преобразованием:  3535.32277447\n",
      "71\n",
      "Среднеквадратичная ошибка:  0.06194842865\n",
      "Она же с обратным преобразованием:  3541.4373247\n",
      "81\n",
      "Среднеквадратичная ошибка:  0.0534112417589\n",
      "Она же с обратным преобразованием:  3547.69097946\n",
      "91\n",
      "Среднеквадратичная ошибка:  0.0467917936747\n",
      "Она же с обратным преобразованием:  3553.97716402\n",
      "101\n",
      "Среднеквадратичная ошибка:  0.0415193746263\n",
      "Она же с обратным преобразованием:  3560.23080967\n",
      "111\n",
      "Среднеквадратичная ошибка:  0.037227661608\n",
      "Она же с обратным преобразованием:  3566.41144922\n",
      "121\n",
      "Среднеквадратичная ошибка:  0.0336711000838\n",
      "Она же с обратным преобразованием:  3572.49382239\n",
      "131\n",
      "Среднеквадратичная ошибка:  0.0306791395287\n",
      "Она же с обратным преобразованием:  3578.4623741\n",
      "141\n",
      "Среднеквадратичная ошибка:  0.0281297599267\n",
      "Она же с обратным преобразованием:  3584.30789573\n",
      "151\n",
      "Среднеквадратичная ошибка:  0.0259334401013\n",
      "Она же с обратным преобразованием:  3590.02540426\n",
      "161\n",
      "Среднеквадратичная ошибка:  0.0240230679502\n",
      "Она же с обратным преобразованием:  3595.61276563\n",
      "171\n",
      "Среднеквадратичная ошибка:  0.0223473778244\n",
      "Она же с обратным преобразованием:  3601.06978048\n",
      "181\n",
      "Среднеквадратичная ошибка:  0.0208665588145\n",
      "Она же с обратным преобразованием:  3606.39756534\n",
      "191\n",
      "Среднеквадратичная ошибка:  0.0195492418015\n",
      "Она же с обратным преобразованием:  3611.59812739\n",
      "201\n",
      "Среднеквадратичная ошибка:  0.018370386583\n",
      "Она же с обратным преобразованием:  3616.6740683\n",
      "211\n",
      "Среднеквадратичная ошибка:  0.0173097710315\n",
      "Она же с обратным преобразованием:  3621.62837614\n",
      "221\n",
      "Среднеквадратичная ошибка:  0.0163508917376\n",
      "Она же с обратным преобразованием:  3626.46427795\n",
      "231\n",
      "Среднеквадратичная ошибка:  0.0154801514105\n",
      "Она же с обратным преобразованием:  3631.18513479\n",
      "241\n",
      "Среднеквадратичная ошибка:  0.0146862496388\n",
      "Она же с обратным преобразованием:  3635.79436702\n",
      "251\n",
      "Среднеквадратичная ошибка:  0.0139597201751\n",
      "Она же с обратным преобразованием:  3640.295401\n",
      "261\n",
      "Среднеквадратичная ошибка:  0.0132925753278\n",
      "Она же с обратным преобразованием:  3644.69163134\n",
      "271\n",
      "Среднеквадратичная ошибка:  0.0126780296909\n",
      "Она же с обратным преобразованием:  3648.98639449\n",
      "281\n",
      "Среднеквадратичная ошибка:  0.0121102833562\n",
      "Она же с обратным преобразованием:  3653.1829505\n",
      "291\n",
      "Среднеквадратичная ошибка:  0.0115843502278\n",
      "Она же с обратным преобразованием:  3657.28447079\n",
      "301\n",
      "Среднеквадратичная ошибка:  0.0110959208865\n",
      "Она же с обратным преобразованием:  3661.29403041\n",
      "311\n",
      "Среднеквадратичная ошибка:  0.0106412521799\n",
      "Она же с обратным преобразованием:  3665.21460352\n",
      "321\n",
      "Среднеквадратичная ошибка:  0.0102170776686\n",
      "Она же с обратным преобразованием:  3669.04906125\n",
      "331\n",
      "Среднеквадратичная ошибка:  0.00982053448529\n",
      "Она же с обратным преобразованием:  3672.80017132\n",
      "341\n",
      "Среднеквадратичная ошибка:  0.00944910321114\n",
      "Она же с обратным преобразованием:  3676.4705989\n",
      "351\n",
      "Среднеквадратичная ошибка:  0.00910055815133\n",
      "Она же с обратным преобразованием:  3680.06290839\n",
      "361\n",
      "Среднеквадратичная ошибка:  0.00877292597605\n",
      "Она же с обратным преобразованием:  3683.57956585\n",
      "371\n",
      "Среднеквадратичная ошибка:  0.00846445113409\n",
      "Она же с обратным преобразованием:  3687.02294184\n",
      "381\n",
      "Среднеквадратичная ошибка:  0.00817356678282\n",
      "Она же с обратным преобразованием:  3690.39531453\n",
      "391\n",
      "Среднеквадратичная ошибка:  0.00789887023753\n",
      "Она же с обратным преобразованием:  3693.69887304\n",
      "401\n",
      "Среднеквадратичная ошибка:  0.00763910214303\n",
      "Она же с обратным преобразованием:  3696.9357208\n",
      "411\n",
      "Среднеквадратичная ошибка:  0.00739312872724\n",
      "Она же с обратным преобразованием:  3700.107879\n",
      "421\n",
      "Среднеквадратичная ошибка:  0.00715992661866\n",
      "Она же с обратным преобразованием:  3703.21728992\n",
      "431\n",
      "Среднеквадратичная ошибка:  0.00693856980701\n",
      "Она же с обратным преобразованием:  3706.26582032\n",
      "441\n",
      "Среднеквадратичная ошибка:  0.00672821840292\n",
      "Она же с обратным преобразованием:  3709.25526468\n",
      "451\n",
      "Среднеквадратичная ошибка:  0.00652810891438\n",
      "Она же с обратным преобразованием:  3712.18734834\n",
      "461\n",
      "Среднеквадратичная ошибка:  0.00633754580706\n",
      "Она же с обратным преобразованием:  3715.06373056\n",
      "471\n",
      "Среднеквадратичная ошибка:  0.00615589415531\n",
      "Она же с обратным преобразованием:  3717.88600745\n",
      "481\n",
      "Среднеквадратичная ошибка:  0.00598257322345\n",
      "Она же с обратным преобразованием:  3720.6557148\n",
      "491\n",
      "Среднеквадратичная ошибка:  0.00581705084296\n",
      "Она же с обратным преобразованием:  3723.37433076\n",
      "501\n",
      "Среднеквадратичная ошибка:  0.00565883847318\n",
      "Она же с обратным преобразованием:  3726.04327843\n",
      "511\n",
      "Среднеквадратичная ошибка:  0.00550748685058\n",
      "Она же с обратным преобразованием:  3728.6639283\n",
      "521\n",
      "Среднеквадратичная ошибка:  0.00536258214671\n",
      "Она же с обратным преобразованием:  3731.23760061\n",
      "531\n",
      "Среднеквадратичная ошибка:  0.00522374256692\n",
      "Она же с обратным преобразованием:  3733.76556759\n",
      "541\n",
      "Среднеквадратичная ошибка:  0.00509061533192\n",
      "Она же с обратным преобразованием:  3736.24905556\n",
      "551\n",
      "Среднеквадратичная ошибка:  0.00496287399323\n",
      "Она же с обратным преобразованием:  3738.68924698\n",
      "561\n",
      "Среднеквадратичная ошибка:  0.00484021604006\n",
      "Она же с обратным преобразованием:  3741.08728235\n",
      "571\n",
      "Среднеквадратичная ошибка:  0.00472236076163\n",
      "Она же с обратным преобразованием:  3743.44426207\n",
      "581\n",
      "Среднеквадратичная ошибка:  0.00460904733362\n",
      "Она же с обратным преобразованием:  3745.76124814\n",
      "591\n",
      "Среднеквадратичная ошибка:  0.00450003310198\n",
      "Она же с обратным преобразованием:  3748.03926585\n",
      "601\n",
      "Среднеквадратичная ошибка:  0.0043950920407\n",
      "Она же с обратным преобразованием:  3750.2793053\n",
      "611\n",
      "Среднеквадратичная ошибка:  0.00429401336348\n",
      "Она же с обратным преобразованием:  3752.48232296\n",
      "621\n",
      "Среднеквадратичная ошибка:  0.0041966002716\n",
      "Она же с обратным преобразованием:  3754.64924306\n",
      "631\n",
      "Среднеквадратичная ошибка:  0.00410266882278\n",
      "Она же с обратным преобразованием:  3756.78095892\n",
      "641\n",
      "Среднеквадратичная ошибка:  0.00401204690753\n",
      "Она же с обратным преобразованием:  3758.87833425\n",
      "651\n",
      "Среднеквадратичная ошибка:  0.00392457332148\n",
      "Она же с обратным преобразованием:  3760.9422044\n",
      "661\n",
      "Среднеквадратичная ошибка:  0.00384009692314\n",
      "Она же с обратным преобразованием:  3762.97337749\n",
      "671\n",
      "Среднеквадратичная ошибка:  0.00375847586825\n",
      "Она же с обратным преобразованием:  3764.9726355\n",
      "681\n",
      "Среднеквадратичная ошибка:  0.00367957691267\n",
      "Она же с обратным преобразованием:  3766.94073539\n",
      "691\n",
      "Среднеквадратичная ошибка:  0.00360327477675\n",
      "Она же с обратным преобразованием:  3768.87841003\n",
      "701\n",
      "Среднеквадратичная ошибка:  0.00352945156504\n",
      "Она же с обратным преобразованием:  3770.7863692\n",
      "711\n",
      "Среднеквадратичная ошибка:  0.00345799623572\n",
      "Она же с обратным преобразованием:  3772.6653005\n",
      "721\n",
      "Среднеквадратичная ошибка:  0.00338880411495\n",
      "Она же с обратным преобразованием:  3774.51587019\n",
      "731\n",
      "Среднеквадратичная ошибка:  0.00332177645167\n",
      "Она же с обратным преобразованием:  3776.33872404\n",
      "741\n",
      "Среднеквадратичная ошибка:  0.00325682000916\n",
      "Она же с обратным преобразованием:  3778.13448812\n",
      "751\n",
      "Среднеквадратичная ошибка:  0.00319384668962\n",
      "Она же с обратным преобразованием:  3779.90376955\n",
      "761\n",
      "Среднеквадратичная ошибка:  0.00313277318898\n",
      "Она же с обратным преобразованием:  3781.6471572\n",
      "771\n",
      "Среднеквадратичная ошибка:  0.00307352067896\n",
      "Она же с обратным преобразованием:  3783.36522241\n",
      "781\n",
      "Среднеквадратичная ошибка:  0.00301601451394\n",
      "Она же с обратным преобразованием:  3785.05851963\n",
      "791\n",
      "Среднеквадратичная ошибка:  0.00296018396051\n",
      "Она же с обратным преобразованием:  3786.72758702\n",
      "801\n",
      "Среднеквадратичная ошибка:  0.00290596194754\n",
      "Она же с обратным преобразованием:  3788.37294709\n",
      "811\n",
      "Среднеквадратичная ошибка:  0.00285328483515\n",
      "Она же с обратным преобразованием:  3789.99510727\n",
      "821\n",
      "Среднеквадратичная ошибка:  0.00280209220076\n",
      "Она же с обратным преобразованием:  3791.5945604\n",
      "831\n",
      "Среднеквадратичная ошибка:  0.00275232664092\n",
      "Она же с обратным преобразованием:  3793.17178534\n",
      "841\n",
      "Среднеквадратичная ошибка:  0.00270393358746\n",
      "Она же с обратным преобразованием:  3794.72724739\n",
      "851\n",
      "Среднеквадратичная ошибка:  0.00265686113692\n",
      "Она же с обратным преобразованием:  3796.26139882\n",
      "861\n",
      "Среднеквадратичная ошибка:  0.00261105989199\n",
      "Она же с обратным преобразованием:  3797.77467932\n",
      "871\n",
      "Среднеквадратичная ошибка:  0.00256648281407\n",
      "Она же с обратным преобразованием:  3799.26751642\n",
      "881\n",
      "Среднеквадратичная ошибка:  0.00252308508612\n",
      "Она же с обратным преобразованием:  3800.74032592\n",
      "891\n",
      "Среднеквадратичная ошибка:  0.00248082398482\n",
      "Она же с обратным преобразованием:  3802.19351231\n",
      "901\n",
      "Среднеквадратичная ошибка:  0.00243965876147\n",
      "Она же с обратным преобразованием:  3803.62746915\n",
      "911\n",
      "Среднеквадратичная ошибка:  0.00239955053082\n",
      "Она же с обратным преобразованием:  3805.0425794\n",
      "921\n",
      "Среднеквадратичная ошибка:  0.00236046216731\n",
      "Она же с обратным преобразованием:  3806.43921584\n",
      "931\n",
      "Среднеквадратичная ошибка:  0.00232235820807\n",
      "Она же с обратным преобразованием:  3807.81774139\n",
      "941\n",
      "Среднеквадратичная ошибка:  0.00228520476231\n",
      "Она же с обратным преобразованием:  3809.1785094\n",
      "951\n",
      "Среднеквадратичная ошибка:  0.00224896942643\n",
      "Она же с обратным преобразованием:  3810.52186402\n",
      "961\n",
      "Среднеквадратичная ошибка:  0.00221362120458\n",
      "Она же с обратным преобразованием:  3811.84814045\n",
      "971\n",
      "Среднеквадратичная ошибка:  0.00217913043423\n",
      "Она же с обратным преобразованием:  3813.15766529\n",
      "981\n",
      "Среднеквадратичная ошибка:  0.00214546871634\n",
      "Она же с обратным преобразованием:  3814.45075675\n",
      "991\n",
      "Среднеквадратичная ошибка:  0.00211260884988\n",
      "Она же с обратным преобразованием:  3815.72772498\n"
     ]
    }
   ],
   "source": [
    "# Оценим наилучшее с\n",
    "for c in range(1,1000,10):\n",
    "    print(c)\n",
    "    do_task_c(c)"
   ]
  },
  {
   "cell_type": "markdown",
   "metadata": {},
   "source": [
    "Заметим, что при росте C, убывает среднеквадратичная ошибка для логарифма, однако среднеквадратичная ошибка для обратного преобразования почти не меняется и более того растет. Выберем c = 50."
   ]
  },
  {
   "cell_type": "markdown",
   "metadata": {},
   "source": [
    "При выбраном c сделаем разбиение выборки в соотношении 7:3 разными способами (перемешивая каждый раз). Сильно ли зависит качество от способа разбиения?"
   ]
  },
  {
   "cell_type": "code",
   "execution_count": 123,
   "metadata": {
    "collapsed": false
   },
   "outputs": [
    {
     "name": "stdout",
     "output_type": "stream",
     "text": [
      "Среднеквадратичная ошибка:  0.096245221012\n",
      "Она же с обратным преобразованием:  3805.11008197\n",
      "Среднеквадратичная ошибка:  0.103012595851\n",
      "Она же с обратным преобразованием:  2282.55332476\n",
      "Среднеквадратичная ошибка:  0.0809122353333\n",
      "Она же с обратным преобразованием:  825.444190656\n",
      "Среднеквадратичная ошибка:  0.118224410105\n",
      "Она же с обратным преобразованием:  5577.56177558\n",
      "Среднеквадратичная ошибка:  0.0987732634159\n",
      "Она же с обратным преобразованием:  3914.14736561\n",
      "Среднеквадратичная ошибка:  0.0979169178216\n",
      "Она же с обратным преобразованием:  5096.26913547\n",
      "Среднеквадратичная ошибка:  0.112837627917\n",
      "Она же с обратным преобразованием:  5431.51356616\n",
      "Среднеквадратичная ошибка:  0.114687809575\n",
      "Она же с обратным преобразованием:  5500.11026504\n",
      "Среднеквадратичная ошибка:  0.11950652821\n",
      "Она же с обратным преобразованием:  5381.36050906\n",
      "Среднеквадратичная ошибка:  0.0946413145654\n",
      "Она же с обратным преобразованием:  813.550661473\n"
     ]
    }
   ],
   "source": [
    "for i in range(10):\n",
    "    np.random.shuffle(data_ar)\n",
    "    test_data = data_ar[:p]\n",
    "    train_data = data_ar[p:]\n",
    "    test_results = np.array(test_data[:,11].astype(float))\n",
    "    train_results = np.array(train_data[:,11].astype(float))\n",
    "    test_sample = np.array(np.hstack((test_data[:,:11], test_data[:,12:])).astype(float))\n",
    "    train_sample = np.array(np.hstack((train_data[:,:11], train_data[:,12:])).astype(float))\n",
    "    do_task_c(50)"
   ]
  },
  {
   "cell_type": "markdown",
   "metadata": {},
   "source": [
    "Как видим, наши данные сильно зависят от того, как мы делим нашу выборку на обучение и тест, это подтверждает предположение о том, что в ней есть выбросы, попробуем их найти."
   ]
  },
  {
   "cell_type": "code",
   "execution_count": 124,
   "metadata": {
    "collapsed": false
   },
   "outputs": [
    {
     "data": {
      "text/plain": [
       "361"
      ]
     },
     "execution_count": 124,
     "metadata": {},
     "output_type": "execute_result"
    }
   ],
   "source": [
    "np.random.shuffle(data_ar)\n",
    "test_data = data_ar[:p]\n",
    "train_data = data_ar[p:]\n",
    "test_results = np.array(test_data[:,11].astype(float))\n",
    "train_results = np.array(train_data[:,11].astype(float))\n",
    "test_sample = np.array(np.hstack((test_data[:,:11], test_data[:,12:])).astype(float))\n",
    "train_sample = np.array(np.hstack((train_data[:,:11], train_data[:,12:])).astype(float))\n",
    "w = np.linalg.inv(train_sample.T.dot(train_sample)).dot(train_sample.T).dot(train_results.T)\n",
    "pr = predict(test_sample,w)\n",
    "len(pr)"
   ]
  },
  {
   "cell_type": "code",
   "execution_count": 125,
   "metadata": {
    "collapsed": false
   },
   "outputs": [
    {
     "data": {
      "image/png": "[encoded data removed]",
      "text/plain": [
       "<matplotlib.figure.Figure at 0x1a3356a2b70>"
      ]
     },
     "metadata": {},
     "output_type": "display_data"
    }
   ],
   "source": [
    "x = np.arange(0,361,1)\n",
    "y = np.abs(pr - test_results)\n",
    "fig=plt.figure(figsize=(14,7))\n",
    "plt.plot(x,y)\n",
    "plt.show()"
   ]
  },
  {
   "cell_type": "markdown",
   "metadata": {},
   "source": [
    "Итак, мы видим два выброса, для которых мы очень плохо предсказываем. Уберем их."
   ]
  },
  {
   "cell_type": "code",
   "execution_count": 137,
   "metadata": {
    "collapsed": false
   },
   "outputs": [],
   "source": [
    "data_ar = np.delete(data_ar,np.arange(150,160,1),0)\n",
    "data_ar = np.delete(data_ar,np.arange(280,290,1),0)"
   ]
  },
  {
   "cell_type": "code",
   "execution_count": 138,
   "metadata": {
    "collapsed": false
   },
   "outputs": [
    {
     "data": {
      "text/plain": [
       "497"
      ]
     },
     "execution_count": 138,
     "metadata": {},
     "output_type": "execute_result"
    }
   ],
   "source": [
    "len(data_ar)"
   ]
  },
  {
   "cell_type": "code",
   "execution_count": 140,
   "metadata": {
    "collapsed": false
   },
   "outputs": [
    {
     "name": "stdout",
     "output_type": "stream",
     "text": [
      "883.51815599\n"
     ]
    }
   ],
   "source": [
    "# Оценим по новой.\n",
    "p = int(len(data_ar) * 0.7)\n",
    "np.random.shuffle(data_ar)\n",
    "test_data = data_ar[:p]\n",
    "train_data = data_ar[p:]\n",
    "test_results = np.array(test_data[:,11].astype(float))\n",
    "train_results = np.array(train_data[:,11].astype(float))\n",
    "test_sample = np.array(np.hstack((test_data[:,:11], test_data[:,12:])).astype(float))\n",
    "train_sample = np.array(np.hstack((train_data[:,:11], train_data[:,12:])).astype(float))\n",
    "w = np.linalg.inv(train_sample.T.dot(train_sample)).dot(train_sample.T).dot(train_results.T)\n",
    "MSerr = MSError(test_sample, test_results,w)\n",
    "print(MSerr)"
   ]
  },
  {
   "cell_type": "markdown",
   "metadata": {},
   "source": [
    "Так то лучше, а теперь c."
   ]
  },
  {
   "cell_type": "code",
   "execution_count": 141,
   "metadata": {
    "collapsed": false
   },
   "outputs": [
    {
     "name": "stdout",
     "output_type": "stream",
     "text": [
      "1\n",
      "Среднеквадратичная ошибка:  2.44326123204\n",
      "Она же с обратным преобразованием:  598.58447782\n",
      "11\n",
      "Среднеквадратичная ошибка:  0.405046297702\n",
      "Она же с обратным преобразованием:  586.36526792\n",
      "21\n",
      "Среднеквадратичная ошибка:  0.215341570663\n",
      "Она же с обратным преобразованием:  592.724466534\n",
      "31\n",
      "Среднеквадратичная ошибка:  0.141804934712\n",
      "Она же с обратным преобразованием:  600.945253584\n",
      "41\n",
      "Среднеквадратичная ошибка:  0.103088939544\n",
      "Она же с обратным преобразованием:  609.441131531\n",
      "51\n",
      "Среднеквадратичная ошибка:  0.0794378580409\n",
      "Она же с обратным преобразованием:  617.77181993\n",
      "61\n",
      "Среднеквадратичная ошибка:  0.0636354138929\n",
      "Она же с обратным преобразованием:  625.785462058\n",
      "71\n",
      "Среднеквадратичная ошибка:  0.0524195012359\n",
      "Она же с обратным преобразованием:  633.430872972\n",
      "81\n",
      "Среднеквадратичная ошибка:  0.0441032694526\n",
      "Она же с обратным преобразованием:  640.698027148\n",
      "91\n",
      "Среднеквадратичная ошибка:  0.0377289072365\n",
      "Она же с обратным преобразованием:  647.595037208\n",
      "101\n",
      "Среднеквадратичная ошибка:  0.0327135873572\n",
      "Она же с обратным преобразованием:  654.138084471\n",
      "111\n",
      "Среднеквадратичная ошибка:  0.0286831908533\n",
      "Она же с обратным преобразованием:  660.346656016\n",
      "121\n",
      "Среднеквадратичная ошибка:  0.0253871182034\n",
      "Она же с обратным преобразованием:  666.241184418\n",
      "131\n",
      "Среднеквадратичная ошибка:  0.0226515636436\n",
      "Она же с обратным преобразованием:  671.841856249\n",
      "141\n",
      "Среднеквадратичная ошибка:  0.0203524364545\n",
      "Она же с обратным преобразованием:  677.168019085\n",
      "151\n",
      "Среднеквадратичная ошибка:  0.0183989390052\n",
      "Она же с обратным преобразованием:  682.237905933\n",
      "161\n",
      "Среднеквадратичная ошибка:  0.0167232201591\n",
      "Она же с обратным преобразованием:  687.068531418\n",
      "171\n",
      "Среднеквадратичная ошибка:  0.0152736407398\n",
      "Она же с обратным преобразованием:  691.675681322\n",
      "181\n",
      "Среднеквадратичная ошибка:  0.0140102650922\n",
      "Она же с обратным преобразованием:  696.073952034\n",
      "191\n",
      "Среднеквадратичная ошибка:  0.012901767945\n",
      "Она же с обратным преобразованием:  700.276815361\n",
      "201\n",
      "Среднеквадратичная ошибка:  0.0119232659291\n",
      "Она же с обратным преобразованием:  704.296694698\n",
      "211\n",
      "Среднеквадратичная ошибка:  0.0110547678997\n",
      "Она же с обратным преобразованием:  708.145044551\n",
      "221\n",
      "Среднеквадратичная ошибка:  0.0102800483285\n",
      "Она же с обратным преобразованием:  711.832428926\n",
      "231\n",
      "Среднеквадратичная ошибка:  0.00958581553601\n",
      "Она же с обратным преобразованием:  715.36859613\n",
      "241\n",
      "Среднеквадратичная ошибка:  0.00896108897911\n",
      "Она же с обратным преобразованием:  718.762548771\n",
      "251\n",
      "Среднеквадратичная ошибка:  0.00839672710049\n",
      "Она же с обратным преобразованием:  722.022608458\n",
      "261\n",
      "Среднеквадратичная ошибка:  0.00788506516916\n",
      "Она же с обратным преобразованием:  725.156475116\n",
      "271\n",
      "Среднеквадратичная ошибка:  0.00741963452411\n",
      "Она же с обратным преобразованием:  728.171281089\n",
      "281\n",
      "Среднеквадратичная ошибка:  0.0069949427876\n",
      "Она же с обратным преобразованием:  731.073640323\n",
      "291\n",
      "Среднеквадратичная ошибка:  0.00660630024887\n",
      "Она же с обратным преобразованием:  733.869692969\n",
      "301\n",
      "Среднеквадратичная ошибка:  0.00624968156819\n",
      "Она же с обратным преобразованием:  736.565145805\n",
      "311\n",
      "Среднеквадратичная ошибка:  0.00592161475722\n",
      "Она же с обратным преобразованием:  739.165308831\n",
      "321\n",
      "Среднеквадратичная ошибка:  0.00561909140881\n",
      "Она же с обратным преобразованием:  741.675128409\n",
      "331\n",
      "Среднеквадратичная ошибка:  0.00533949361695\n",
      "Она же с обратным преобразованием:  744.099217274\n",
      "341\n",
      "Среднеквадратичная ошибка:  0.00508053410641\n",
      "Она же с обратным преобразованием:  746.44188173\n",
      "351\n",
      "Среднеквадратичная ошибка:  0.00484020689228\n",
      "Она же с обратным преобразованием:  748.707146312\n",
      "361\n",
      "Среднеквадратичная ошибка:  0.00461674638999\n",
      "Она же с обратным преобразованием:  750.89877617\n",
      "371\n",
      "Среднеквадратичная ошибка:  0.00440859334982\n",
      "Она же с обратным преобразованием:  753.020297395\n",
      "381\n",
      "Среднеквадратичная ошибка:  0.00421436633594\n",
      "Она же с обратным преобразованием:  755.07501551\n",
      "391\n",
      "Среднеквадратичная ошибка:  0.00403283773515\n",
      "Она же с обратным преобразованием:  757.066032297\n",
      "401\n",
      "Среднеквадратичная ошибка:  0.00386291348625\n",
      "Она же с обратным преобразованием:  758.996261135\n",
      "411\n",
      "Среднеквадратичная ошибка:  0.00370361588064\n",
      "Она же с обратным преобразованием:  760.868440987\n",
      "421\n",
      "Среднеквадратичная ошибка:  0.00355406891053\n",
      "Она же с обратным преобразованием:  762.685149179\n",
      "431\n",
      "Среднеквадратичная ошибка:  0.00341348573966\n",
      "Она же с обратным преобразованием:  764.448813082\n",
      "441\n",
      "Среднеквадратичная ошибка:  0.00328115795041\n",
      "Она же с обратным преобразованием:  766.161720808\n",
      "451\n",
      "Среднеквадратичная ошибка:  0.00315644628334\n",
      "Она же с обратным преобразованием:  767.826031009\n",
      "461\n",
      "Среднеквадратичная ошибка:  0.00303877263584\n",
      "Она же с обратным преобразованием:  769.443781864\n",
      "471\n",
      "Среднеквадратичная ошибка:  0.00292761312688\n",
      "Она же с обратным преобразованием:  771.016899342\n",
      "481\n",
      "Среднеквадратичная ошибка:  0.00282249206757\n",
      "Она же с обратным преобразованием:  772.54720479\n",
      "491\n",
      "Среднеквадратичная ошибка:  0.0027229767043\n",
      "Она же с обратным преобразованием:  774.036421918\n",
      "501\n",
      "Среднеквадратичная ошибка:  0.00262867262259\n",
      "Она же с обратным преобразованием:  775.486183241\n",
      "511\n",
      "Среднеквадратичная ошибка:  0.00253921971804\n",
      "Она же с обратным преобразованием:  776.898036014\n",
      "521\n",
      "Среднеквадратичная ошибка:  0.00245428865536\n",
      "Она же с обратным преобразованием:  778.273447713\n",
      "531\n",
      "Среднеквадратичная ошибка:  0.00237357774883\n",
      "Она же с обратным преобразованием:  779.613811101\n",
      "541\n",
      "Среднеквадратичная ошибка:  0.0022968102074\n",
      "Она же с обратным преобразованием:  780.920448915\n",
      "551\n",
      "Среднеквадратичная ошибка:  0.00222373169642\n",
      "Она же с обратным преобразованием:  782.194618203\n",
      "561\n",
      "Среднеквадратичная ошибка:  0.00215410817491\n",
      "Она же с обратным преобразованием:  783.437514346\n",
      "571\n",
      "Среднеквадратичная ошибка:  0.00208772397303\n",
      "Она же с обратным преобразованием:  784.65027479\n",
      "581\n",
      "Среднеквадратичная ошибка:  0.00202438007983\n",
      "Она же с обратным преобразованием:  785.833982506\n",
      "591\n",
      "Среднеквадратичная ошибка:  0.00196389261512\n",
      "Она же с обратным преобразованием:  786.98966921\n",
      "601\n",
      "Среднеквадратичная ошибка:  0.00190609146314\n",
      "Она же с обратным преобразованием:  788.118318357\n",
      "611\n",
      "Среднеквадратичная ошибка:  0.00185081904868\n",
      "Она же с обратным преобразованием:  789.220867929\n",
      "621\n",
      "Среднеквадратичная ошибка:  0.00179792923886\n",
      "Она же с обратным преобразованием:  790.298213026\n",
      "631\n",
      "Среднеквадратичная ошибка:  0.00174728635591\n",
      "Она же с обратным преобразованием:  791.35120829\n",
      "641\n",
      "Среднеквадратичная ошибка:  0.00169876428834\n",
      "Она же с обратным преобразованием:  792.380670166\n",
      "651\n",
      "Среднеквадратичная ошибка:  0.00165224568945\n",
      "Она же с обратным преобразованием:  793.387379005\n",
      "661\n",
      "Среднеквадратичная ошибка:  0.00160762125328\n",
      "Она же с обратным преобразованием:  794.372081042\n",
      "671\n",
      "Среднеквадратичная ошибка:  0.00156478905978\n",
      "Она же с обратным преобразованием:  795.335490231\n",
      "681\n",
      "Среднеквадратичная ошибка:  0.00152365398151\n",
      "Она же с обратным преобразованием:  796.278289981\n",
      "691\n",
      "Среднеквадратичная ошибка:  0.00148412714547\n",
      "Она же с обратным преобразованием:  797.201134764\n",
      "701\n",
      "Среднеквадратичная ошибка:  0.00144612544417\n",
      "Она же с обратным преобразованием:  798.104651631\n",
      "711\n",
      "Среднеквадратичная ошибка:  0.00140957109088\n",
      "Она же с обратным преобразованием:  798.989441635\n",
      "721\n",
      "Среднеквадратичная ошибка:  0.00137439121455\n",
      "Она же с обратным преобразованием:  799.856081164\n",
      "731\n",
      "Среднеквадратичная ошибка:  0.00134051749034\n",
      "Она же с обратным преобразованием:  800.70512319\n",
      "741\n",
      "Среднеквадратичная ошибка:  0.00130788580232\n",
      "Она же с обратным преобразованием:  801.537098448\n",
      "751\n",
      "Среднеквадратичная ошибка:  0.00127643593504\n",
      "Она же с обратным преобразованием:  802.352516542\n",
      "761\n",
      "Среднеквадратичная ошибка:  0.00124611129128\n",
      "Она же с обратным преобразованием:  803.151866988\n",
      "771\n",
      "Среднеквадратичная ошибка:  0.00121685863338\n",
      "Она же с обратным преобразованием:  803.935620189\n",
      "781\n",
      "Среднеквадратичная ошибка:  0.00118862784598\n",
      "Она же с обратным преобразованием:  804.704228364\n",
      "791\n",
      "Среднеквадратичная ошибка:  0.00116137171816\n",
      "Она же с обратным преобразованием:  805.458126415\n",
      "801\n",
      "Среднеквадратичная ошибка:  0.0011350457431\n",
      "Она же с обратным преобразованием:  806.197732748\n",
      "811\n",
      "Среднеквадратичная ошибка:  0.0011096079338\n",
      "Она же с обратным преобразованием:  806.92345005\n",
      "821\n",
      "Среднеквадратичная ошибка:  0.00108501865326\n",
      "Она же с обратным преобразованием:  807.635666018\n",
      "831\n",
      "Среднеквадратичная ошибка:  0.00106124045796\n",
      "Она же с обратным преобразованием:  808.33475405\n",
      "841\n",
      "Среднеквадратичная ошибка:  0.00103823795337\n",
      "Она же с обратным преобразованием:  809.0210739\n",
      "851\n",
      "Среднеквадратичная ошибка:  0.00101597766047\n",
      "Она же с обратным преобразованием:  809.694972294\n",
      "861\n",
      "Среднеквадратичная ошибка:  0.000994427892333\n",
      "Она же с обратным преобразованием:  810.356783514\n",
      "871\n",
      "Среднеквадратичная ошибка:  0.000973558639948\n",
      "Она же с обратным преобразованием:  811.006829954\n",
      "881\n",
      "Среднеквадратичная ошибка:  0.000953341466411\n",
      "Она же с обратным преобразованием:  811.64542264\n",
      "891\n",
      "Среднеквадратичная ошибка:  0.000933749408867\n",
      "Она же с обратным преобразованием:  812.27286173\n",
      "901\n",
      "Среднеквадратичная ошибка:  0.000914756887528\n",
      "Она же с обратным преобразованием:  812.889436983\n",
      "911\n",
      "Среднеквадратичная ошибка:  0.000896339621184\n",
      "Она же с обратным преобразованием:  813.495428204\n",
      "921\n",
      "Среднеквадратичная ошибка:  0.000878474548702\n",
      "Она же с обратным преобразованием:  814.091105672\n",
      "931\n",
      "Среднеквадратичная ошибка:  0.000861139756003\n",
      "Она же с обратным преобразованием:  814.676730537\n",
      "941\n",
      "Среднеквадратичная ошибка:  0.000844314408117\n",
      "Она же с обратным преобразованием:  815.252555208\n",
      "951\n",
      "Среднеквадратичная ошибка:  0.000827978685883\n",
      "Она же с обратным преобразованием:  815.818823709\n",
      "961\n",
      "Среднеквадратичная ошибка:  0.000812113726954\n",
      "Она же с обратным преобразованием:  816.375772029\n",
      "971\n",
      "Среднеквадратичная ошибка:  0.000796701570778\n",
      "Она же с обратным преобразованием:  816.92362845\n",
      "981\n",
      "Среднеквадратичная ошибка:  0.000781725107226\n",
      "Она же с обратным преобразованием:  817.462613856\n",
      "991\n",
      "Среднеквадратичная ошибка:  0.000767168028627\n",
      "Она же с обратным преобразованием:  817.992942033\n"
     ]
    }
   ],
   "source": [
    "for c in range(1,1000,10):\n",
    "    print(c)\n",
    "    do_task_c(c)"
   ]
  },
  {
   "cell_type": "markdown",
   "metadata": {},
   "source": [
    "Наименьшая среднеквадратичная ошибка для обращенных значений достигается при меньших c."
   ]
  },
  {
   "cell_type": "markdown",
   "metadata": {},
   "source": [
    "### Вывод. Исходные данные были с выбросами, либо наша модель слишком слаба, чтобы хорошо предсказывать пожары. До обработки выбросов мы получали MSE около 4000 и это значение сильно зависило от разделения выборки на обучение и контроль. После очистки от выбросов мы получили значение MSE 800. С помощью приема с логарифмом удается понизить ошибку на 400 и 200, до  3600 и 600 соответственно. Также видно что при росте c, ошибка MSE для логарифмов уменьшается, а для нормальных значений немного растет."
   ]
  },
  {
   "cell_type": "code",
   "execution_count": null,
   "metadata": {
    "collapsed": true
   },
   "outputs": [],
   "source": []
  }
 ],
 "metadata": {
  "kernelspec": {
   "display_name": "Python 3",
   "language": "python",
   "name": "python3"
  },
  "language_info": {
   "codemirror_mode": {
    "name": "ipython",
    "version": 3
   },
   "file_extension": ".py",
   "mimetype": "text/x-python",
   "name": "python",
   "nbconvert_exporter": "python",
   "pygments_lexer": "ipython3",
   "version": "3.5.2"
  }
 },
 "nbformat": 4,
 "nbformat_minor": 0
}
