{
 "cells": [
  {
   "cell_type": "markdown",
   "metadata": {},
   "source": [
    "Пусть $X_i = β_1 +iβ_2 +ε_0 +...+ε_i$, $i = 0, 1, ..., n$ — расстояния, которое проехал трамвай за i секунд по показанию датчика. Здесь $β_1$ — начальное расстояние, $β_2$ — скорость трамвая, $ε_0$ — ошибка начального показания датчика. Трамвай едет с постоянной скоростью, и через каждую секунду датчик фиксирует расстояние, которое проехал трамвай. Отсчет времени идет от предыдущего замера, причем отсчет происходит с ошибкой. Для $i = 1, ..., n$ величина $ε_i$ есть ошибка приращения расстояния, то есть $ε_i = ε^{t}_{i} β_2$, где ε^{t}_i — ошибка отсчета времени. Все ошибки $ε_i$ независимы и распределены по закону $N(0, σ^2)$. Сведите задачу к линейной модели и найдите оценки наименьших квадратов для начального расстояния $β_1$ и скорости $β_2$, а также несмещенную оценку для $σ^2$ , из которой выразим оценку дисперсии отсчета времени."
   ]
  },
  {
   "cell_type": "code",
   "execution_count": 30,
   "metadata": {
    "collapsed": true
   },
   "outputs": [],
   "source": [
    "import scipy.stats as stats\n",
    "import pandas as pd\n",
    "import matplotlib.pyplot as plt\n",
    "import numpy as np\n",
    "import pylab\n",
    "import seaborn as sns\n",
    "%matplotlib inline"
   ]
  },
  {
   "cell_type": "code",
   "execution_count": 36,
   "metadata": {
    "collapsed": false
   },
   "outputs": [
    {
     "data": {
      "text/html": [
       "<div>\n",
       "<table border=\"1\" class=\"dataframe\">\n",
       "  <thead>\n",
       "    <tr style=\"text-align: right;\">\n",
       "      <th></th>\n",
       "      <th>104.9407</th>\n",
       "    </tr>\n",
       "  </thead>\n",
       "  <tbody>\n",
       "    <tr>\n",
       "      <th>0</th>\n",
       "      <td>118.0170</td>\n",
       "    </tr>\n",
       "    <tr>\n",
       "      <th>1</th>\n",
       "      <td>133.1054</td>\n",
       "    </tr>\n",
       "    <tr>\n",
       "      <th>2</th>\n",
       "      <td>143.4023</td>\n",
       "    </tr>\n",
       "    <tr>\n",
       "      <th>3</th>\n",
       "      <td>155.9753</td>\n",
       "    </tr>\n",
       "    <tr>\n",
       "      <th>4</th>\n",
       "      <td>171.7617</td>\n",
       "    </tr>\n",
       "  </tbody>\n",
       "</table>\n",
       "</div>"
      ],
      "text/plain": [
       "   104.9407\n",
       "0  118.0170\n",
       "1  133.1054\n",
       "2  143.4023\n",
       "3  155.9753\n",
       "4  171.7617"
      ]
     },
     "execution_count": 36,
     "metadata": {},
     "output_type": "execute_result"
    }
   ],
   "source": [
    "data = pd.read_csv('Regression.csv')\n",
    "data[:5]"
   ]
  },
  {
   "cell_type": "code",
   "execution_count": 37,
   "metadata": {
    "collapsed": true
   },
   "outputs": [],
   "source": [
    "data=data.values"
   ]
  },
  {
   "cell_type": "code",
   "execution_count": 40,
   "metadata": {
    "collapsed": false
   },
   "outputs": [
    {
     "data": {
      "text/plain": [
       "1000"
      ]
     },
     "execution_count": 40,
     "metadata": {},
     "output_type": "execute_result"
    }
   ],
   "source": [
    "data_list = [104.9407]\n",
    "for i in range(999):\n",
    "    data_list.append(float(data[i]))\n",
    "len(data_list)"
   ]
  },
  {
   "cell_type": "markdown",
   "metadata": {},
   "source": [
    "Сводим задачу к линейной модели, как в теоретической задаче 9.2.\n",
    "Введем случайную величину $Y: Y_0=X_0,Y_1=X_1-X_0,Y_2=X_2-X_1$ и так далее, получим, что тогда вектор ошибок будет распределен нормально. Получим $(X_0, \\frac{X_N - X_0}{n}) = (\\beta_1^*,\\beta_2^*)$, $\\sigma^{2*} = \\frac{1}{n-1}(\\sum_{i=1}^n(X_i - X_{i-1})^2 - \\frac{(X_n - X_0)^2}{n})$ - несмещенная."
   ]
  },
  {
   "cell_type": "code",
   "execution_count": 48,
   "metadata": {
    "collapsed": true
   },
   "outputs": [],
   "source": [
    "def do_task():\n",
    "    n = len(data_list)\n",
    "    beta_1 = data_list[0]\n",
    "    beta_2 = (data_list[n - 1] - data_list[0]) / n\n",
    "    diffs = np.array([data_list[0] if i == 0 else data_list[i] - data_list[i - 1] for i in range(n)])\n",
    "    sig_2 = (1. / (n - 1)) * (np.sum(diffs ** 2) - (data_list[n-1] - data_list[0])**2 / n)\n",
    "    dispers_time = sig_2 / beta_2**2\n",
    "    return [beta_1, beta_2, sig_2, dispers_time]"
   ]
  },
  {
   "cell_type": "code",
   "execution_count": 49,
   "metadata": {
    "collapsed": false
   },
   "outputs": [],
   "source": [
    "beta_1, beta_2, sig_2, dispers_time = do_task()"
   ]
  },
  {
   "cell_type": "code",
   "execution_count": 50,
   "metadata": {
    "collapsed": false
   },
   "outputs": [
    {
     "name": "stdout",
     "output_type": "stream",
     "text": [
      "Beta_1: 104.9407 Beta_2: 13.9189515 Sigma^2:  13.429290934 Time dispersion:  0.0693170448485\n"
     ]
    }
   ],
   "source": [
    "print(\"Beta_1:\", beta_1, \"Beta_2:\", beta_2,\"Sigma^2: \", sig_2,\"Time dispersion: \", dispers_time)"
   ]
  },
  {
   "cell_type": "markdown",
   "metadata": {},
   "source": [
    "### Вывод. Мы свели задачу к линейной модели. Получили оценки: $\\beta_1$-начальное положение трамвая 104.9407, $\\beta_2$ - скорость трамвая, около 14, ошибка приращения расстояния ~ 13.4, оценка дисперсии отсчета времени~ 0.07."
   ]
  },
  {
   "cell_type": "code",
   "execution_count": null,
   "metadata": {
    "collapsed": true
   },
   "outputs": [],
   "source": []
  }
 ],
 "metadata": {
  "kernelspec": {
   "display_name": "Python 3",
   "language": "python",
   "name": "python3"
  },
  "language_info": {
   "codemirror_mode": {
    "name": "ipython",
    "version": 3
   },
   "file_extension": ".py",
   "mimetype": "text/x-python",
   "name": "python",
   "nbconvert_exporter": "python",
   "pygments_lexer": "ipython3",
   "version": "3.5.2"
  }
 },
 "nbformat": 4,
 "nbformat_minor": 0
}
