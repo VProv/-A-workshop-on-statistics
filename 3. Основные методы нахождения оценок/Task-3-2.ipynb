{
 "cells": [
  {
   "cell_type": "code",
   "execution_count": 15,
   "metadata": {
    "collapsed": false
   },
   "outputs": [],
   "source": [
    "import scipy.stats as stats\n",
    "import pandas as pd\n",
    "import matplotlib.pyplot as plt\n",
    "import numpy as np\n",
    "import pylab\n",
    "from numpy import ndarray\n",
    "# Для метода максимального правдоподобия.\n",
    "from statsmodels.base.model import GenericLikelihoodModel\n",
    "%matplotlib inline"
   ]
  },
  {
   "cell_type": "code",
   "execution_count": 89,
   "metadata": {
    "collapsed": false
   },
   "outputs": [
    {
     "data": {
      "text/html": [
       "<div>\n",
       "<table border=\"1\" class=\"dataframe\">\n",
       "  <thead>\n",
       "    <tr style=\"text-align: right;\">\n",
       "      <th></th>\n",
       "      <th>-602.0</th>\n",
       "    </tr>\n",
       "  </thead>\n",
       "  <tbody>\n",
       "    <tr>\n",
       "      <th>0</th>\n",
       "      <td>-598.19</td>\n",
       "    </tr>\n",
       "    <tr>\n",
       "      <th>1</th>\n",
       "      <td>-601.03</td>\n",
       "    </tr>\n",
       "    <tr>\n",
       "      <th>2</th>\n",
       "      <td>-598.07</td>\n",
       "    </tr>\n",
       "    <tr>\n",
       "      <th>3</th>\n",
       "      <td>-597.16</td>\n",
       "    </tr>\n",
       "    <tr>\n",
       "      <th>4</th>\n",
       "      <td>-597.95</td>\n",
       "    </tr>\n",
       "  </tbody>\n",
       "</table>\n",
       "</div>"
      ],
      "text/plain": [
       "   -602.0\n",
       "0 -598.19\n",
       "1 -601.03\n",
       "2 -598.07\n",
       "3 -597.16\n",
       "4 -597.95"
      ]
     },
     "execution_count": 89,
     "metadata": {},
     "output_type": "execute_result"
    }
   ],
   "source": [
    "# Считываем данные из файла.\n",
    "data = pd.read_csv('Cauchy.csv')\n",
    "data[:5]"
   ]
  },
  {
   "cell_type": "code",
   "execution_count": 31,
   "metadata": {
    "collapsed": false
   },
   "outputs": [],
   "source": [
    "# Как видим, одно из значений съехало в название столбца.(-602.0)\n",
    "# Считаем данные в np.array.\n",
    "X = list(data[data.columns[0]])\n",
    "X.insert(0, -602.0)"
   ]
  },
  {
   "cell_type": "code",
   "execution_count": 36,
   "metadata": {
    "collapsed": false
   },
   "outputs": [],
   "source": [
    "X = np.array(X)"
   ]
  },
  {
   "cell_type": "markdown",
   "metadata": {
    "collapsed": false
   },
   "source": [
    "Нам нужно найти параметр сдвига в распределении Коши, методом максимального правдоподобия.\n",
    "\n",
    "Посмотрим на наши данные."
   ]
  },
  {
   "cell_type": "code",
   "execution_count": 91,
   "metadata": {
    "collapsed": false
   },
   "outputs": [
    {
     "data": {
      "image/png": "[encoded data removed]",
      "text/plain": [
       "<matplotlib.figure.Figure at 0x16afbe8def0>"
      ]
     },
     "metadata": {},
     "output_type": "display_data"
    }
   ],
   "source": [
    "# Посмотрим на наши данные.\n",
    "plt.figure(figsize=(10, 5))\n",
    "plt.scatter(X, np.zeros(len(X)), alpha = 0.25, color = \"g\", label = \"Our sample from Cauchy.csv\")\n",
    "plt.xlim([-1000, 1000])\n",
    "plt.show()"
   ]
  },
  {
   "cell_type": "markdown",
   "metadata": {},
   "source": [
    "Видно, что оптимального значения $x_0$ следует ожидать в районе [-750,-650]."
   ]
  },
  {
   "cell_type": "markdown",
   "metadata": {},
   "source": [
    "Оценим параметр сдвига методом максимального правдоподобия а) по половине выборки, б) по всей выборке.\n",
    "\n",
    "Оценку произведем по сетке, зная что параметр масштаба $\\in [-1000, 1000]$, выбрав шаг $0.01$."
   ]
  },
  {
   "cell_type": "code",
   "execution_count": 37,
   "metadata": {
    "collapsed": false
   },
   "outputs": [],
   "source": [
    "# Сетка.\n",
    "grid = np.linspace(-1000.,1000., num = 2000. / 0.01)"
   ]
  },
  {
   "cell_type": "code",
   "execution_count": 93,
   "metadata": {
    "collapsed": true
   },
   "outputs": [],
   "source": [
    "# Функция логарифма правдоподобия, на вход принимает параметр сдвига.\n",
    "def loglike(x0, X):\n",
    "    return stats.cauchy.logpdf(X, loc=x0).sum()"
   ]
  },
  {
   "cell_type": "code",
   "execution_count": 96,
   "metadata": {
    "collapsed": true
   },
   "outputs": [],
   "source": [
    "# Функция подсчета при каком параметре сдвига, правдоподобие максимально.\n",
    "def fit(space, X):\n",
    "    like_array = [loglike(i, X) for i in space]\n",
    "    return space[np.argmax(like_array)]"
   ]
  },
  {
   "cell_type": "code",
   "execution_count": 98,
   "metadata": {
    "collapsed": true
   },
   "outputs": [],
   "source": [
    "#Запустим наше исследование на половине выборки, считая что измерения в выборке независимо.\n",
    "result_half = fit(grid, X[:500])"
   ]
  },
  {
   "cell_type": "code",
   "execution_count": 97,
   "metadata": {
    "collapsed": false
   },
   "outputs": [],
   "source": [
    "# Запустим наше исследование на всей выборке.\n",
    "result = fit(grid, X)"
   ]
  },
  {
   "cell_type": "code",
   "execution_count": 99,
   "metadata": {
    "collapsed": false
   },
   "outputs": [
    {
     "name": "stdout",
     "output_type": "stream",
     "text": [
      "-598.98799494 -599.00799504\n"
     ]
    }
   ],
   "source": [
    "print(result_half, result)"
   ]
  },
  {
   "cell_type": "markdown",
   "metadata": {},
   "source": [
    "#### Вывод: Оценка параметра сдвига $x_0$ методом максимального правдоподобия по половине выборки: -598.98799494,\n",
    "#### по всей выборке: -599.00799504. Как видим, оценки отличаются на сотые доли, значит оценка по половине выборки тоже хорошая."
   ]
  },
  {
   "cell_type": "code",
   "execution_count": null,
   "metadata": {
    "collapsed": true
   },
   "outputs": [],
   "source": []
  }
 ],
 "metadata": {
  "kernelspec": {
   "display_name": "Python 3",
   "language": "python",
   "name": "python3"
  },
  "language_info": {
   "codemirror_mode": {
    "name": "ipython",
    "version": 3
   },
   "file_extension": ".py",
   "mimetype": "text/x-python",
   "name": "python",
   "nbconvert_exporter": "python",
   "pygments_lexer": "ipython3",
   "version": "3.5.2"
  }
 },
 "nbformat": 4,
 "nbformat_minor": 0
}
