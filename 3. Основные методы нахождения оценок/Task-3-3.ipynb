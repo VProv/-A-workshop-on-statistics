{
 "cells": [
  {
   "cell_type": "code",
   "execution_count": 1,
   "metadata": {
    "collapsed": true
   },
   "outputs": [],
   "source": [
    "import scipy.stats as stats\n",
    "import pandas as pd\n",
    "import matplotlib.pyplot as plt\n",
    "import numpy as np\n",
    "import pylab\n",
    "from numpy import ndarray\n",
    "%matplotlib inline"
   ]
  },
  {
   "cell_type": "code",
   "execution_count": 2,
   "metadata": {
    "collapsed": false
   },
   "outputs": [
    {
     "name": "stdout",
     "output_type": "stream",
     "text": [
      "    1.4\n",
      "0  0.00\n",
      "1  0.00\n",
      "2  3.42\n",
      "3  0.00\n",
      "4  0.18 3651\n"
     ]
    }
   ],
   "source": [
    "# Считываем данные из файла.\n",
    "data = pd.read_csv('Weibull.csv')\n",
    "print(data[:5], len(data))"
   ]
  },
  {
   "cell_type": "code",
   "execution_count": 3,
   "metadata": {
    "collapsed": true
   },
   "outputs": [],
   "source": [
    "# Функция заменяющая нули на 0.0001.\n",
    "def null_changer(x):\n",
    "    if x == 0.:\n",
    "        return 0.0001\n",
    "    else:\n",
    "        return x"
   ]
  },
  {
   "cell_type": "code",
   "execution_count": 4,
   "metadata": {
    "collapsed": false
   },
   "outputs": [],
   "source": [
    "# Как видим, одно из значений съехало в название столбца.(1.4)\n",
    "# Считаем данные в np.array.\n",
    "# Заменим нули на 0.0001.\n",
    "X = list(map(null_changer, data[data.columns[0]]))\n",
    "X.insert(0, 1.4)\n",
    "X = np.array(X)"
   ]
  },
  {
   "cell_type": "code",
   "execution_count": 5,
   "metadata": {
    "collapsed": false
   },
   "outputs": [
    {
     "data": {
      "image/png": "[encoded data removed]",
      "text/plain": [
       "<matplotlib.figure.Figure at 0x2399d713588>"
      ]
     },
     "metadata": {},
     "output_type": "display_data"
    }
   ],
   "source": [
    "# Посмотрим на наши данные.\n",
    "plt.figure(figsize=(10, 3))\n",
    "plt.scatter(X, np.zeros(len(X)), alpha = 0.25, color = \"g\", label = \"Our sample from Cauchy.csv\")\n",
    "plt.xlim([-10, 1000])\n",
    "plt.show()"
   ]
  },
  {
   "cell_type": "code",
   "execution_count": 6,
   "metadata": {
    "collapsed": false
   },
   "outputs": [
    {
     "data": {
      "image/png": "[encoded data removed]",
      "text/plain": [
       "<matplotlib.figure.Figure at 0x2399d744ef0>"
      ]
     },
     "metadata": {},
     "output_type": "display_data"
    }
   ],
   "source": [
    "# И посмотрим на десятичные логарифмы наших данных.\n",
    "plt.figure(figsize=(10, 3))\n",
    "plt.scatter(np.log10(X), np.zeros(len(X)), alpha = 0.05, color = \"g\", label = \"Our sample from Cauchy.csv\")\n",
    "plt.xlim([-3, 3])\n",
    "plt.show()"
   ]
  },
  {
   "cell_type": "markdown",
   "metadata": {},
   "source": [
    "По графику выборки данных видно, что больше всего точек, находятся у 0, а по графику логарифмов мало что понятно."
   ]
  },
  {
   "cell_type": "markdown",
   "metadata": {},
   "source": [
    "К задаче.\n",
    "\n",
    "В полночь работники банка измеряют две величины: $X^1$ — максимальное значение баланса за день, $X^2$ — значение баланса в полночь. Считается, что величина $X = X^1 − X^2$ имеет распределение Вейбулла с функцией распределения $1 − e^{(-x)^\\gamma} I(x \\geq 0)$, где $\\gamma > 0$ - параметр формы.\n",
    "\n",
    "Плотность этого распределения $\\gamma x^{\\gamma - 1} e^{-x^\\gamma} I(x \\geq 0)$, \n",
    "\n",
    "а ее логарифм $\\ln \\gamma + (\\gamma - 1) \\ln x - x^\\gamma, x \\geq 0$"
   ]
  },
  {
   "cell_type": "markdown",
   "metadata": {},
   "source": [
    "Оценим параметр формы методом максимального правдоподобия, оценку произведем по сетке в логарифмической шкале, зная что \n",
    "$log_{10} \\gamma \\in [-2, 2]$, шаг $10^{-3}$."
   ]
  },
  {
   "cell_type": "code",
   "execution_count": 7,
   "metadata": {
    "collapsed": true
   },
   "outputs": [],
   "source": [
    "# Функция логарифма правдоподобия.\n",
    "# При параметре a = 1, плотность распределения в scipy.stats.exponweib совпадает с нашей.\n",
    "def loglike(gamma, X):\n",
    "    return stats.exponweib.logpdf(X, a = 1., c=gamma).sum()"
   ]
  },
  {
   "cell_type": "code",
   "execution_count": 16,
   "metadata": {
    "collapsed": true
   },
   "outputs": [],
   "source": [
    "# Функция подсчета при каком параметре gamma правдоподобие максимально.\n",
    "# Принимает на вход логарифмическую шкалу.\n",
    "def fit(log_space, X):\n",
    "    like_array = [loglike(np.power(10, i), X) for i in log_space]\n",
    "    optimal_gamma = log_space[np.argmax(like_array)]\n",
    "    return optimal_gamma, np.power(10, optimal_gamma), np.max(like_array)"
   ]
  },
  {
   "cell_type": "code",
   "execution_count": 17,
   "metadata": {
    "collapsed": true
   },
   "outputs": [],
   "source": [
    "# Сетка в логарифмической шкале.\n",
    "grid = np.linspace(-2.,2., num = 4. / 0.001)"
   ]
  },
  {
   "cell_type": "markdown",
   "metadata": {},
   "source": [
    "а) Оценим параметр формы по первым четырем годам."
   ]
  },
  {
   "cell_type": "code",
   "execution_count": 18,
   "metadata": {
    "collapsed": false
   },
   "outputs": [],
   "source": [
    "result_half = fit(grid, X[:(365 * 4)])"
   ]
  },
  {
   "cell_type": "code",
   "execution_count": 19,
   "metadata": {
    "collapsed": false
   },
   "outputs": [
    {
     "name": "stdout",
     "output_type": "stream",
     "text": [
      "(-0.8087021755438859, 0.15534519495338567, -1058.7980530820219)\n"
     ]
    }
   ],
   "source": [
    "print(result_half)"
   ]
  },
  {
   "cell_type": "markdown",
   "metadata": {},
   "source": [
    "б) Оценим параметр формы по всей выборке."
   ]
  },
  {
   "cell_type": "code",
   "execution_count": 10,
   "metadata": {
    "collapsed": true
   },
   "outputs": [],
   "source": [
    "result_all = fit(grid, X)"
   ]
  },
  {
   "cell_type": "code",
   "execution_count": 11,
   "metadata": {
    "collapsed": false
   },
   "outputs": [
    {
     "name": "stdout",
     "output_type": "stream",
     "text": [
      "(-0.80270067516879218, 0.15750680602705364)\n"
     ]
    }
   ],
   "source": [
    "print(result_all)"
   ]
  },
  {
   "cell_type": "code",
   "execution_count": 12,
   "metadata": {
    "collapsed": false
   },
   "outputs": [
    {
     "name": "stdout",
     "output_type": "stream",
     "text": [
      "0.00600150037509 0.00216161107367\n"
     ]
    }
   ],
   "source": [
    "print(result_all[0] - result_half[0], result_all[1] - result_half[1])"
   ]
  },
  {
   "cell_type": "markdown",
   "metadata": {},
   "source": [
    "#### Вывод: Оценки $\\gamma$ методом максимального правдоподобия за 4 года и за 10 лет равны соответственно $\\gamma = 0.1553, log_{10}(\\gamma) = -0.8087, \\gamma = 0.1575, log_{10}(\\gamma) = -0.8027 $  различаются на 6 тысячных в логарифмической шкале, и на около 2 тысячных в реальной. Значит 4х лет вполне достаточно для оценки.\n"
   ]
  },
  {
   "cell_type": "code",
   "execution_count": null,
   "metadata": {
    "collapsed": true
   },
   "outputs": [],
   "source": []
  }
 ],
 "metadata": {
  "kernelspec": {
   "display_name": "Python 3",
   "language": "python",
   "name": "python3"
  },
  "language_info": {
   "codemirror_mode": {
    "name": "ipython",
    "version": 3
   },
   "file_extension": ".py",
   "mimetype": "text/x-python",
   "name": "python",
   "nbconvert_exporter": "python",
   "pygments_lexer": "ipython3",
   "version": "3.5.2"
  }
 },
 "nbformat": 4,
 "nbformat_minor": 0
}
